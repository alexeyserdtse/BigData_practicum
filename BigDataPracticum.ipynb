{
  "nbformat": 4,
  "nbformat_minor": 0,
  "metadata": {
    "colab": {
      "name": "BigDataPracticum.ipynb",
      "provenance": [],
      "toc_visible": true,
      "authorship_tag": "ABX9TyMwOll/DAnSPD77k5aRtJfP",
      "include_colab_link": true
    },
    "kernelspec": {
      "name": "python3",
      "display_name": "Python 3"
    },
    "language_info": {
      "name": "python"
    }
  },
  "cells": [
    {
      "cell_type": "markdown",
      "metadata": {
        "id": "view-in-github",
        "colab_type": "text"
      },
      "source": [
        "<a href=\"https://colab.research.google.com/github/alexeyserdtse/BigData_practicum/blob/main/BigDataPracticum.ipynb\" target=\"_parent\"><img src=\"https://colab.research.google.com/assets/colab-badge.svg\" alt=\"Open In Colab\"/></a>"
      ]
    },
    {
      "cell_type": "markdown",
      "metadata": {
        "id": "XxFphoAJ5fN0"
      },
      "source": [
        "# Big Data Practicum:"
      ]
    },
    {
      "cell_type": "markdown",
      "metadata": {
        "id": "HpfqiXfY5j28"
      },
      "source": [
        "## Import Lib:"
      ]
    },
    {
      "cell_type": "code",
      "metadata": {
        "id": "fzqnTs4z5is3"
      },
      "source": [
        "import pandas as pd\n",
        "import numpy as np\n",
        "import gc"
      ],
      "execution_count": 2,
      "outputs": []
    },
    {
      "cell_type": "markdown",
      "metadata": {
        "id": "RnH49ipi6TOa"
      },
      "source": [
        "## import raw files:"
      ]
    },
    {
      "cell_type": "markdown",
      "metadata": {
        "id": "DNdUxazkK6yP"
      },
      "source": [
        "### Country"
      ]
    },
    {
      "cell_type": "code",
      "metadata": {
        "id": "69arhIjH6SOg",
        "colab": {
          "base_uri": "https://localhost:8080/",
          "height": 204
        },
        "outputId": "5b324bb9-ec07-40d5-dbd0-b08a805edfe7"
      },
      "source": [
        "## import Country csv from github repository:\n",
        "path = 'https://raw.githubusercontent.com/alexeyserdtse/BigData_practicum/main/Country.csv'\n",
        "RawCountry = pd.read_csv(path,index_col=None)\n",
        "\n",
        "#show first 5 rows.\n",
        "RawCountry.head()"
      ],
      "execution_count": null,
      "outputs": [
        {
          "output_type": "execute_result",
          "data": {
            "text/html": [
              "<div>\n",
              "<style scoped>\n",
              "    .dataframe tbody tr th:only-of-type {\n",
              "        vertical-align: middle;\n",
              "    }\n",
              "\n",
              "    .dataframe tbody tr th {\n",
              "        vertical-align: top;\n",
              "    }\n",
              "\n",
              "    .dataframe thead th {\n",
              "        text-align: right;\n",
              "    }\n",
              "</style>\n",
              "<table border=\"1\" class=\"dataframe\">\n",
              "  <thead>\n",
              "    <tr style=\"text-align: right;\">\n",
              "      <th></th>\n",
              "      <th>dt</th>\n",
              "      <th>AverageTemperature</th>\n",
              "      <th>AverageTemperatureUncertainty</th>\n",
              "      <th>Country</th>\n",
              "    </tr>\n",
              "  </thead>\n",
              "  <tbody>\n",
              "    <tr>\n",
              "      <th>0</th>\n",
              "      <td>1743-11-01</td>\n",
              "      <td>4.384</td>\n",
              "      <td>2.294</td>\n",
              "      <td>Åland</td>\n",
              "    </tr>\n",
              "    <tr>\n",
              "      <th>1</th>\n",
              "      <td>1743-12-01</td>\n",
              "      <td>NaN</td>\n",
              "      <td>NaN</td>\n",
              "      <td>Åland</td>\n",
              "    </tr>\n",
              "    <tr>\n",
              "      <th>2</th>\n",
              "      <td>1744-01-01</td>\n",
              "      <td>NaN</td>\n",
              "      <td>NaN</td>\n",
              "      <td>Åland</td>\n",
              "    </tr>\n",
              "    <tr>\n",
              "      <th>3</th>\n",
              "      <td>1744-02-01</td>\n",
              "      <td>NaN</td>\n",
              "      <td>NaN</td>\n",
              "      <td>Åland</td>\n",
              "    </tr>\n",
              "    <tr>\n",
              "      <th>4</th>\n",
              "      <td>1744-03-01</td>\n",
              "      <td>NaN</td>\n",
              "      <td>NaN</td>\n",
              "      <td>Åland</td>\n",
              "    </tr>\n",
              "  </tbody>\n",
              "</table>\n",
              "</div>"
            ],
            "text/plain": [
              "           dt  AverageTemperature  AverageTemperatureUncertainty Country\n",
              "0  1743-11-01               4.384                          2.294   Åland\n",
              "1  1743-12-01                 NaN                            NaN   Åland\n",
              "2  1744-01-01                 NaN                            NaN   Åland\n",
              "3  1744-02-01                 NaN                            NaN   Åland\n",
              "4  1744-03-01                 NaN                            NaN   Åland"
            ]
          },
          "metadata": {},
          "execution_count": 42
        }
      ]
    },
    {
      "cell_type": "code",
      "metadata": {
        "colab": {
          "base_uri": "https://localhost:8080/"
        },
        "id": "XxXAJBAppLoU",
        "outputId": "500e7213-57e8-4013-e140-cd3b37f3fa7d"
      },
      "source": [
        "#data set size\n",
        "len(RawCountry)"
      ],
      "execution_count": null,
      "outputs": [
        {
          "output_type": "execute_result",
          "data": {
            "text/plain": [
              "577462"
            ]
          },
          "metadata": {},
          "execution_count": 43
        }
      ]
    },
    {
      "cell_type": "code",
      "metadata": {
        "colab": {
          "base_uri": "https://localhost:8080/",
          "height": 297
        },
        "id": "09XBYp-RkI5X",
        "outputId": "1eeafe56-cd4b-40ee-8b79-1224e0586d6b"
      },
      "source": [
        "# Min and max values are in a correct range.\n",
        "RawCountry.describe()"
      ],
      "execution_count": null,
      "outputs": [
        {
          "output_type": "execute_result",
          "data": {
            "text/html": [
              "<div>\n",
              "<style scoped>\n",
              "    .dataframe tbody tr th:only-of-type {\n",
              "        vertical-align: middle;\n",
              "    }\n",
              "\n",
              "    .dataframe tbody tr th {\n",
              "        vertical-align: top;\n",
              "    }\n",
              "\n",
              "    .dataframe thead th {\n",
              "        text-align: right;\n",
              "    }\n",
              "</style>\n",
              "<table border=\"1\" class=\"dataframe\">\n",
              "  <thead>\n",
              "    <tr style=\"text-align: right;\">\n",
              "      <th></th>\n",
              "      <th>AverageTemperature</th>\n",
              "      <th>AverageTemperatureUncertainty</th>\n",
              "    </tr>\n",
              "  </thead>\n",
              "  <tbody>\n",
              "    <tr>\n",
              "      <th>count</th>\n",
              "      <td>544811.000000</td>\n",
              "      <td>545550.000000</td>\n",
              "    </tr>\n",
              "    <tr>\n",
              "      <th>mean</th>\n",
              "      <td>17.193354</td>\n",
              "      <td>1.019057</td>\n",
              "    </tr>\n",
              "    <tr>\n",
              "      <th>std</th>\n",
              "      <td>10.953966</td>\n",
              "      <td>1.201930</td>\n",
              "    </tr>\n",
              "    <tr>\n",
              "      <th>min</th>\n",
              "      <td>-37.658000</td>\n",
              "      <td>0.052000</td>\n",
              "    </tr>\n",
              "    <tr>\n",
              "      <th>25%</th>\n",
              "      <td>10.025000</td>\n",
              "      <td>0.323000</td>\n",
              "    </tr>\n",
              "    <tr>\n",
              "      <th>50%</th>\n",
              "      <td>20.901000</td>\n",
              "      <td>0.571000</td>\n",
              "    </tr>\n",
              "    <tr>\n",
              "      <th>75%</th>\n",
              "      <td>25.814000</td>\n",
              "      <td>1.206000</td>\n",
              "    </tr>\n",
              "    <tr>\n",
              "      <th>max</th>\n",
              "      <td>38.842000</td>\n",
              "      <td>15.003000</td>\n",
              "    </tr>\n",
              "  </tbody>\n",
              "</table>\n",
              "</div>"
            ],
            "text/plain": [
              "       AverageTemperature  AverageTemperatureUncertainty\n",
              "count       544811.000000                  545550.000000\n",
              "mean            17.193354                       1.019057\n",
              "std             10.953966                       1.201930\n",
              "min            -37.658000                       0.052000\n",
              "25%             10.025000                       0.323000\n",
              "50%             20.901000                       0.571000\n",
              "75%             25.814000                       1.206000\n",
              "max             38.842000                      15.003000"
            ]
          },
          "metadata": {},
          "execution_count": 44
        }
      ]
    },
    {
      "cell_type": "code",
      "metadata": {
        "colab": {
          "base_uri": "https://localhost:8080/"
        },
        "id": "1XzXPP8OmL5e",
        "outputId": "fd1dbc61-133d-4f73-bd9c-43d393231e1e"
      },
      "source": [
        "RawCountry.info()"
      ],
      "execution_count": null,
      "outputs": [
        {
          "output_type": "stream",
          "name": "stdout",
          "text": [
            "<class 'pandas.core.frame.DataFrame'>\n",
            "RangeIndex: 577462 entries, 0 to 577461\n",
            "Data columns (total 4 columns):\n",
            " #   Column                         Non-Null Count   Dtype  \n",
            "---  ------                         --------------   -----  \n",
            " 0   dt                             577462 non-null  object \n",
            " 1   AverageTemperature             544811 non-null  float64\n",
            " 2   AverageTemperatureUncertainty  545550 non-null  float64\n",
            " 3   Country                        577462 non-null  object \n",
            "dtypes: float64(2), object(2)\n",
            "memory usage: 17.6+ MB\n"
          ]
        }
      ]
    },
    {
      "cell_type": "code",
      "metadata": {
        "colab": {
          "base_uri": "https://localhost:8080/"
        },
        "id": "mx3ZLn53rRKw",
        "outputId": "1b9ff7a7-5423-4a25-c3cf-268e9fffec9e"
      },
      "source": [
        "# in addition to Countries there are continents in the list ('Africa', 'Asia')\n",
        "# Some of the european contries marked as (Europe), not all \n",
        "RawCountry.Country.unique()"
      ],
      "execution_count": null,
      "outputs": [
        {
          "output_type": "execute_result",
          "data": {
            "text/plain": [
              "array(['Åland', 'Afghanistan', 'Africa', 'Albania', 'Algeria',\n",
              "       'American Samoa', 'Andorra', 'Angola', 'Anguilla', 'Antarctica',\n",
              "       'Antigua And Barbuda', 'Argentina', 'Armenia', 'Aruba', 'Asia',\n",
              "       'Australia', 'Austria', 'Azerbaijan', 'Bahamas', 'Bahrain',\n",
              "       'Baker Island', 'Bangladesh', 'Barbados', 'Belarus', 'Belgium',\n",
              "       'Belize', 'Benin', 'Bhutan', 'Bolivia',\n",
              "       'Bonaire, Saint Eustatius And Saba', 'Bosnia And Herzegovina',\n",
              "       'Botswana', 'Brazil', 'British Virgin Islands', 'Bulgaria',\n",
              "       'Burkina Faso', 'Burma', 'Burundi', \"Côte D'Ivoire\", 'Cambodia',\n",
              "       'Cameroon', 'Canada', 'Cape Verde', 'Cayman Islands',\n",
              "       'Central African Republic', 'Chad', 'Chile', 'China',\n",
              "       'Christmas Island', 'Colombia', 'Comoros',\n",
              "       'Congo (Democratic Republic Of The)', 'Congo', 'Costa Rica',\n",
              "       'Croatia', 'Cuba', 'Curaçao', 'Cyprus', 'Czech Republic',\n",
              "       'Denmark (Europe)', 'Denmark', 'Djibouti', 'Dominica',\n",
              "       'Dominican Republic', 'Ecuador', 'Egypt', 'El Salvador',\n",
              "       'Equatorial Guinea', 'Eritrea', 'Estonia', 'Ethiopia', 'Europe',\n",
              "       'Falkland Islands (Islas Malvinas)', 'Faroe Islands',\n",
              "       'Federated States Of Micronesia', 'Fiji', 'Finland',\n",
              "       'France (Europe)', 'France', 'French Guiana', 'French Polynesia',\n",
              "       'French Southern And Antarctic Lands', 'Gabon', 'Gambia',\n",
              "       'Gaza Strip', 'Georgia', 'Germany', 'Ghana', 'Greece', 'Greenland',\n",
              "       'Grenada', 'Guadeloupe', 'Guam', 'Guatemala', 'Guernsey',\n",
              "       'Guinea Bissau', 'Guinea', 'Guyana', 'Haiti',\n",
              "       'Heard Island And Mcdonald Islands', 'Honduras', 'Hong Kong',\n",
              "       'Hungary', 'Iceland', 'India', 'Indonesia', 'Iran', 'Iraq',\n",
              "       'Ireland', 'Isle Of Man', 'Israel', 'Italy', 'Jamaica', 'Japan',\n",
              "       'Jersey', 'Jordan', 'Kazakhstan', 'Kenya', 'Kingman Reef',\n",
              "       'Kiribati', 'Kuwait', 'Kyrgyzstan', 'Laos', 'Latvia', 'Lebanon',\n",
              "       'Lesotho', 'Liberia', 'Libya', 'Liechtenstein', 'Lithuania',\n",
              "       'Luxembourg', 'Macau', 'Macedonia', 'Madagascar', 'Malawi',\n",
              "       'Malaysia', 'Mali', 'Malta', 'Martinique', 'Mauritania',\n",
              "       'Mauritius', 'Mayotte', 'Mexico', 'Moldova', 'Monaco', 'Mongolia',\n",
              "       'Montenegro', 'Montserrat', 'Morocco', 'Mozambique', 'Namibia',\n",
              "       'Nepal', 'Netherlands (Europe)', 'Netherlands', 'New Caledonia',\n",
              "       'New Zealand', 'Nicaragua', 'Niger', 'Nigeria', 'Niue',\n",
              "       'North America', 'North Korea', 'Northern Mariana Islands',\n",
              "       'Norway', 'Oceania', 'Oman', 'Pakistan', 'Palau', 'Palestina',\n",
              "       'Palmyra Atoll', 'Panama', 'Papua New Guinea', 'Paraguay', 'Peru',\n",
              "       'Philippines', 'Poland', 'Portugal', 'Puerto Rico', 'Qatar',\n",
              "       'Reunion', 'Romania', 'Russia', 'Rwanda', 'Saint Barthélemy',\n",
              "       'Saint Kitts And Nevis', 'Saint Lucia', 'Saint Martin',\n",
              "       'Saint Pierre And Miquelon', 'Saint Vincent And The Grenadines',\n",
              "       'Samoa', 'San Marino', 'Sao Tome And Principe', 'Saudi Arabia',\n",
              "       'Senegal', 'Serbia', 'Seychelles', 'Sierra Leone', 'Singapore',\n",
              "       'Sint Maarten', 'Slovakia', 'Slovenia', 'Solomon Islands',\n",
              "       'Somalia', 'South Africa', 'South America',\n",
              "       'South Georgia And The South Sandwich Isla', 'South Korea',\n",
              "       'Spain', 'Sri Lanka', 'Sudan', 'Suriname',\n",
              "       'Svalbard And Jan Mayen', 'Swaziland', 'Sweden', 'Switzerland',\n",
              "       'Syria', 'Taiwan', 'Tajikistan', 'Tanzania', 'Thailand',\n",
              "       'Timor Leste', 'Togo', 'Tonga', 'Trinidad And Tobago', 'Tunisia',\n",
              "       'Turkey', 'Turkmenistan', 'Turks And Caicas Islands', 'Uganda',\n",
              "       'Ukraine', 'United Arab Emirates', 'United Kingdom (Europe)',\n",
              "       'United Kingdom', 'United States', 'Uruguay', 'Uzbekistan',\n",
              "       'Venezuela', 'Vietnam', 'Virgin Islands', 'Western Sahara',\n",
              "       'Yemen', 'Zambia', 'Zimbabwe'], dtype=object)"
            ]
          },
          "metadata": {},
          "execution_count": 46
        }
      ]
    },
    {
      "cell_type": "code",
      "metadata": {
        "colab": {
          "base_uri": "https://localhost:8080/",
          "height": 204
        },
        "id": "QJUz_WKro2xJ",
        "outputId": "b5c23a4c-d2bf-44cf-91bc-79c21e0c195c"
      },
      "source": [
        "# Drop duplicates:\n",
        "RawCountry = RawCountry.drop_duplicates()\n",
        "\n",
        "# delete extra whitespaces & Capitize every column.\n",
        "RawCountry['Country'] = RawCountry['Country'].str.strip()\n",
        "RawCountry['Country'] = RawCountry['Country'].str.title()\n",
        "\n",
        "# Convert all values in  AverageTemperature and AverageTemperatureUncertainty to float\n",
        "RawCountry = RawCountry.astype({'AverageTemperature': 'float',\n",
        "                               'AverageTemperatureUncertainty': 'float'\n",
        "                               })\n",
        "\n",
        "# Convert date column from object (str) to datetime:\n",
        "RawCountry['dt'] = pd.to_datetime(RawCountry['dt'])\n",
        "\n",
        "#Show first 5 rows:\n",
        "RawCountry.head()"
      ],
      "execution_count": null,
      "outputs": [
        {
          "output_type": "execute_result",
          "data": {
            "text/html": [
              "<div>\n",
              "<style scoped>\n",
              "    .dataframe tbody tr th:only-of-type {\n",
              "        vertical-align: middle;\n",
              "    }\n",
              "\n",
              "    .dataframe tbody tr th {\n",
              "        vertical-align: top;\n",
              "    }\n",
              "\n",
              "    .dataframe thead th {\n",
              "        text-align: right;\n",
              "    }\n",
              "</style>\n",
              "<table border=\"1\" class=\"dataframe\">\n",
              "  <thead>\n",
              "    <tr style=\"text-align: right;\">\n",
              "      <th></th>\n",
              "      <th>dt</th>\n",
              "      <th>AverageTemperature</th>\n",
              "      <th>AverageTemperatureUncertainty</th>\n",
              "      <th>Country</th>\n",
              "    </tr>\n",
              "  </thead>\n",
              "  <tbody>\n",
              "    <tr>\n",
              "      <th>0</th>\n",
              "      <td>1743-11-01</td>\n",
              "      <td>4.384</td>\n",
              "      <td>2.294</td>\n",
              "      <td>Åland</td>\n",
              "    </tr>\n",
              "    <tr>\n",
              "      <th>1</th>\n",
              "      <td>1743-12-01</td>\n",
              "      <td>NaN</td>\n",
              "      <td>NaN</td>\n",
              "      <td>Åland</td>\n",
              "    </tr>\n",
              "    <tr>\n",
              "      <th>2</th>\n",
              "      <td>1744-01-01</td>\n",
              "      <td>NaN</td>\n",
              "      <td>NaN</td>\n",
              "      <td>Åland</td>\n",
              "    </tr>\n",
              "    <tr>\n",
              "      <th>3</th>\n",
              "      <td>1744-02-01</td>\n",
              "      <td>NaN</td>\n",
              "      <td>NaN</td>\n",
              "      <td>Åland</td>\n",
              "    </tr>\n",
              "    <tr>\n",
              "      <th>4</th>\n",
              "      <td>1744-03-01</td>\n",
              "      <td>NaN</td>\n",
              "      <td>NaN</td>\n",
              "      <td>Åland</td>\n",
              "    </tr>\n",
              "  </tbody>\n",
              "</table>\n",
              "</div>"
            ],
            "text/plain": [
              "          dt  AverageTemperature  AverageTemperatureUncertainty Country\n",
              "0 1743-11-01               4.384                          2.294   Åland\n",
              "1 1743-12-01                 NaN                            NaN   Åland\n",
              "2 1744-01-01                 NaN                            NaN   Åland\n",
              "3 1744-02-01                 NaN                            NaN   Åland\n",
              "4 1744-03-01                 NaN                            NaN   Åland"
            ]
          },
          "metadata": {},
          "execution_count": 49
        }
      ]
    },
    {
      "cell_type": "markdown",
      "metadata": {
        "id": "iI1GJSoDLUoN"
      },
      "source": [
        "### Global Temperatures"
      ]
    },
    {
      "cell_type": "code",
      "metadata": {
        "colab": {
          "base_uri": "https://localhost:8080/",
          "height": 309
        },
        "id": "JQNSpTGHKKEt",
        "outputId": "6af534fe-f9be-4cdd-b6e5-bebad24c08f3"
      },
      "source": [
        "## import GlobalTemp csv:\n",
        "path = 'https://raw.githubusercontent.com/alexeyserdtse/BigData_practicum/main/GlobalTemperatures.csv'\n",
        "RawGlobalTemp = pd.read_csv(path,index_col=None)\n",
        "\n",
        "#show first 5 rows.\n",
        "RawGlobalTemp.head()"
      ],
      "execution_count": null,
      "outputs": [
        {
          "output_type": "execute_result",
          "data": {
            "text/html": [
              "<div>\n",
              "<style scoped>\n",
              "    .dataframe tbody tr th:only-of-type {\n",
              "        vertical-align: middle;\n",
              "    }\n",
              "\n",
              "    .dataframe tbody tr th {\n",
              "        vertical-align: top;\n",
              "    }\n",
              "\n",
              "    .dataframe thead th {\n",
              "        text-align: right;\n",
              "    }\n",
              "</style>\n",
              "<table border=\"1\" class=\"dataframe\">\n",
              "  <thead>\n",
              "    <tr style=\"text-align: right;\">\n",
              "      <th></th>\n",
              "      <th>dt</th>\n",
              "      <th>LandAverageTemperature</th>\n",
              "      <th>LandAverageTemperatureUncertainty</th>\n",
              "      <th>LandMaxTemperature</th>\n",
              "      <th>LandMaxTemperatureUncertainty</th>\n",
              "      <th>LandMinTemperature</th>\n",
              "      <th>LandMinTemperatureUncertainty</th>\n",
              "      <th>LandAndOceanAverageTemperature</th>\n",
              "      <th>LandAndOceanAverageTemperatureUncertainty</th>\n",
              "    </tr>\n",
              "  </thead>\n",
              "  <tbody>\n",
              "    <tr>\n",
              "      <th>0</th>\n",
              "      <td>1750-01-01</td>\n",
              "      <td>3.034</td>\n",
              "      <td>3.574</td>\n",
              "      <td>NaN</td>\n",
              "      <td>NaN</td>\n",
              "      <td>NaN</td>\n",
              "      <td>NaN</td>\n",
              "      <td>NaN</td>\n",
              "      <td>NaN</td>\n",
              "    </tr>\n",
              "    <tr>\n",
              "      <th>1</th>\n",
              "      <td>1750-02-01</td>\n",
              "      <td>3.083</td>\n",
              "      <td>3.702</td>\n",
              "      <td>NaN</td>\n",
              "      <td>NaN</td>\n",
              "      <td>NaN</td>\n",
              "      <td>NaN</td>\n",
              "      <td>NaN</td>\n",
              "      <td>NaN</td>\n",
              "    </tr>\n",
              "    <tr>\n",
              "      <th>2</th>\n",
              "      <td>1750-03-01</td>\n",
              "      <td>5.626</td>\n",
              "      <td>3.076</td>\n",
              "      <td>NaN</td>\n",
              "      <td>NaN</td>\n",
              "      <td>NaN</td>\n",
              "      <td>NaN</td>\n",
              "      <td>NaN</td>\n",
              "      <td>NaN</td>\n",
              "    </tr>\n",
              "    <tr>\n",
              "      <th>3</th>\n",
              "      <td>1750-04-01</td>\n",
              "      <td>8.490</td>\n",
              "      <td>2.451</td>\n",
              "      <td>NaN</td>\n",
              "      <td>NaN</td>\n",
              "      <td>NaN</td>\n",
              "      <td>NaN</td>\n",
              "      <td>NaN</td>\n",
              "      <td>NaN</td>\n",
              "    </tr>\n",
              "    <tr>\n",
              "      <th>4</th>\n",
              "      <td>1750-05-01</td>\n",
              "      <td>11.573</td>\n",
              "      <td>2.072</td>\n",
              "      <td>NaN</td>\n",
              "      <td>NaN</td>\n",
              "      <td>NaN</td>\n",
              "      <td>NaN</td>\n",
              "      <td>NaN</td>\n",
              "      <td>NaN</td>\n",
              "    </tr>\n",
              "  </tbody>\n",
              "</table>\n",
              "</div>"
            ],
            "text/plain": [
              "           dt  ...  LandAndOceanAverageTemperatureUncertainty\n",
              "0  1750-01-01  ...                                        NaN\n",
              "1  1750-02-01  ...                                        NaN\n",
              "2  1750-03-01  ...                                        NaN\n",
              "3  1750-04-01  ...                                        NaN\n",
              "4  1750-05-01  ...                                        NaN\n",
              "\n",
              "[5 rows x 9 columns]"
            ]
          },
          "metadata": {},
          "execution_count": 29
        }
      ]
    },
    {
      "cell_type": "code",
      "metadata": {
        "colab": {
          "base_uri": "https://localhost:8080/"
        },
        "id": "6RLT3CA9tYex",
        "outputId": "283945f7-470f-4c5d-ec21-31e6b9c44c8d"
      },
      "source": [
        "#dataset size:\n",
        "len(RawGlobalTemp)"
      ],
      "execution_count": null,
      "outputs": [
        {
          "output_type": "execute_result",
          "data": {
            "text/plain": [
              "3192"
            ]
          },
          "metadata": {},
          "execution_count": 30
        }
      ]
    },
    {
      "cell_type": "code",
      "metadata": {
        "colab": {
          "base_uri": "https://localhost:8080/",
          "height": 317
        },
        "id": "iLMA5pUvttFa",
        "outputId": "f6457e8e-08f6-4a57-f26f-0ef6fb2ce63d"
      },
      "source": [
        "# Min and max values are in a correct range.\n",
        "RawGlobalTemp.describe()"
      ],
      "execution_count": null,
      "outputs": [
        {
          "output_type": "execute_result",
          "data": {
            "text/html": [
              "<div>\n",
              "<style scoped>\n",
              "    .dataframe tbody tr th:only-of-type {\n",
              "        vertical-align: middle;\n",
              "    }\n",
              "\n",
              "    .dataframe tbody tr th {\n",
              "        vertical-align: top;\n",
              "    }\n",
              "\n",
              "    .dataframe thead th {\n",
              "        text-align: right;\n",
              "    }\n",
              "</style>\n",
              "<table border=\"1\" class=\"dataframe\">\n",
              "  <thead>\n",
              "    <tr style=\"text-align: right;\">\n",
              "      <th></th>\n",
              "      <th>LandAverageTemperature</th>\n",
              "      <th>LandAverageTemperatureUncertainty</th>\n",
              "      <th>LandMaxTemperature</th>\n",
              "      <th>LandMaxTemperatureUncertainty</th>\n",
              "      <th>LandMinTemperature</th>\n",
              "      <th>LandMinTemperatureUncertainty</th>\n",
              "      <th>LandAndOceanAverageTemperature</th>\n",
              "      <th>LandAndOceanAverageTemperatureUncertainty</th>\n",
              "    </tr>\n",
              "  </thead>\n",
              "  <tbody>\n",
              "    <tr>\n",
              "      <th>count</th>\n",
              "      <td>3180.000000</td>\n",
              "      <td>3180.000000</td>\n",
              "      <td>1992.000000</td>\n",
              "      <td>1992.000000</td>\n",
              "      <td>1992.000000</td>\n",
              "      <td>1992.000000</td>\n",
              "      <td>1992.000000</td>\n",
              "      <td>1992.000000</td>\n",
              "    </tr>\n",
              "    <tr>\n",
              "      <th>mean</th>\n",
              "      <td>8.374731</td>\n",
              "      <td>0.938468</td>\n",
              "      <td>14.350601</td>\n",
              "      <td>0.479782</td>\n",
              "      <td>2.743595</td>\n",
              "      <td>0.431849</td>\n",
              "      <td>15.212566</td>\n",
              "      <td>0.128532</td>\n",
              "    </tr>\n",
              "    <tr>\n",
              "      <th>std</th>\n",
              "      <td>4.381310</td>\n",
              "      <td>1.096440</td>\n",
              "      <td>4.309579</td>\n",
              "      <td>0.583203</td>\n",
              "      <td>4.155835</td>\n",
              "      <td>0.445838</td>\n",
              "      <td>1.274093</td>\n",
              "      <td>0.073587</td>\n",
              "    </tr>\n",
              "    <tr>\n",
              "      <th>min</th>\n",
              "      <td>-2.080000</td>\n",
              "      <td>0.034000</td>\n",
              "      <td>5.900000</td>\n",
              "      <td>0.044000</td>\n",
              "      <td>-5.407000</td>\n",
              "      <td>0.045000</td>\n",
              "      <td>12.475000</td>\n",
              "      <td>0.042000</td>\n",
              "    </tr>\n",
              "    <tr>\n",
              "      <th>25%</th>\n",
              "      <td>4.312000</td>\n",
              "      <td>0.186750</td>\n",
              "      <td>10.212000</td>\n",
              "      <td>0.142000</td>\n",
              "      <td>-1.334500</td>\n",
              "      <td>0.155000</td>\n",
              "      <td>14.047000</td>\n",
              "      <td>0.063000</td>\n",
              "    </tr>\n",
              "    <tr>\n",
              "      <th>50%</th>\n",
              "      <td>8.610500</td>\n",
              "      <td>0.392000</td>\n",
              "      <td>14.760000</td>\n",
              "      <td>0.252000</td>\n",
              "      <td>2.949500</td>\n",
              "      <td>0.279000</td>\n",
              "      <td>15.251000</td>\n",
              "      <td>0.122000</td>\n",
              "    </tr>\n",
              "    <tr>\n",
              "      <th>75%</th>\n",
              "      <td>12.548250</td>\n",
              "      <td>1.419250</td>\n",
              "      <td>18.451500</td>\n",
              "      <td>0.539000</td>\n",
              "      <td>6.778750</td>\n",
              "      <td>0.458250</td>\n",
              "      <td>16.396250</td>\n",
              "      <td>0.151000</td>\n",
              "    </tr>\n",
              "    <tr>\n",
              "      <th>max</th>\n",
              "      <td>19.021000</td>\n",
              "      <td>7.880000</td>\n",
              "      <td>21.320000</td>\n",
              "      <td>4.373000</td>\n",
              "      <td>9.715000</td>\n",
              "      <td>3.498000</td>\n",
              "      <td>17.611000</td>\n",
              "      <td>0.457000</td>\n",
              "    </tr>\n",
              "  </tbody>\n",
              "</table>\n",
              "</div>"
            ],
            "text/plain": [
              "       LandAverageTemperature  ...  LandAndOceanAverageTemperatureUncertainty\n",
              "count             3180.000000  ...                                1992.000000\n",
              "mean                 8.374731  ...                                   0.128532\n",
              "std                  4.381310  ...                                   0.073587\n",
              "min                 -2.080000  ...                                   0.042000\n",
              "25%                  4.312000  ...                                   0.063000\n",
              "50%                  8.610500  ...                                   0.122000\n",
              "75%                 12.548250  ...                                   0.151000\n",
              "max                 19.021000  ...                                   0.457000\n",
              "\n",
              "[8 rows x 8 columns]"
            ]
          },
          "metadata": {},
          "execution_count": 31
        }
      ]
    },
    {
      "cell_type": "code",
      "metadata": {
        "colab": {
          "base_uri": "https://localhost:8080/"
        },
        "id": "3NVYeqvwt7w1",
        "outputId": "302424bf-160c-466e-dc4f-0307c0bf96ae"
      },
      "source": [
        "RawGlobalTemp.info()"
      ],
      "execution_count": null,
      "outputs": [
        {
          "output_type": "stream",
          "name": "stdout",
          "text": [
            "<class 'pandas.core.frame.DataFrame'>\n",
            "RangeIndex: 3192 entries, 0 to 3191\n",
            "Data columns (total 9 columns):\n",
            " #   Column                                     Non-Null Count  Dtype  \n",
            "---  ------                                     --------------  -----  \n",
            " 0   dt                                         3192 non-null   object \n",
            " 1   LandAverageTemperature                     3180 non-null   float64\n",
            " 2   LandAverageTemperatureUncertainty          3180 non-null   float64\n",
            " 3   LandMaxTemperature                         1992 non-null   float64\n",
            " 4   LandMaxTemperatureUncertainty              1992 non-null   float64\n",
            " 5   LandMinTemperature                         1992 non-null   float64\n",
            " 6   LandMinTemperatureUncertainty              1992 non-null   float64\n",
            " 7   LandAndOceanAverageTemperature             1992 non-null   float64\n",
            " 8   LandAndOceanAverageTemperatureUncertainty  1992 non-null   float64\n",
            "dtypes: float64(8), object(1)\n",
            "memory usage: 224.6+ KB\n"
          ]
        }
      ]
    },
    {
      "cell_type": "code",
      "metadata": {
        "colab": {
          "base_uri": "https://localhost:8080/",
          "height": 309
        },
        "id": "AKJls3qkuOon",
        "outputId": "ac6b69cd-f6d9-4cd6-fe2a-3bb5e35542dd"
      },
      "source": [
        "# Drop duplicates:\n",
        "RawGlobalTemp = RawGlobalTemp.drop_duplicates()\n",
        "\n",
        "# Convert date column from object (str) to datetime:\n",
        "RawGlobalTemp['dt'] = pd.to_datetime(RawGlobalTemp['dt'])\n",
        "\n",
        "# convert columns to same format (float)\n",
        "RawGlobalTemp = RawGlobalTemp.astype({\n",
        "    'LandAverageTemperature': 'float',\n",
        "    'LandAverageTemperatureUncertainty': 'float',\n",
        "    'LandMaxTemperature': 'float',\n",
        "    'LandMaxTemperatureUncertainty': 'float',\n",
        "    'LandMinTemperature': 'float',\n",
        "    'LandMinTemperatureUncertainty': 'float',\n",
        "    'LandAndOceanAverageTemperature': 'float',\n",
        "    'LandAndOceanAverageTemperatureUncertainty': 'float',\n",
        "    })\n",
        "\n",
        "RawGlobalTemp.head()\n"
      ],
      "execution_count": null,
      "outputs": [
        {
          "output_type": "execute_result",
          "data": {
            "text/html": [
              "<div>\n",
              "<style scoped>\n",
              "    .dataframe tbody tr th:only-of-type {\n",
              "        vertical-align: middle;\n",
              "    }\n",
              "\n",
              "    .dataframe tbody tr th {\n",
              "        vertical-align: top;\n",
              "    }\n",
              "\n",
              "    .dataframe thead th {\n",
              "        text-align: right;\n",
              "    }\n",
              "</style>\n",
              "<table border=\"1\" class=\"dataframe\">\n",
              "  <thead>\n",
              "    <tr style=\"text-align: right;\">\n",
              "      <th></th>\n",
              "      <th>dt</th>\n",
              "      <th>LandAverageTemperature</th>\n",
              "      <th>LandAverageTemperatureUncertainty</th>\n",
              "      <th>LandMaxTemperature</th>\n",
              "      <th>LandMaxTemperatureUncertainty</th>\n",
              "      <th>LandMinTemperature</th>\n",
              "      <th>LandMinTemperatureUncertainty</th>\n",
              "      <th>LandAndOceanAverageTemperature</th>\n",
              "      <th>LandAndOceanAverageTemperatureUncertainty</th>\n",
              "    </tr>\n",
              "  </thead>\n",
              "  <tbody>\n",
              "    <tr>\n",
              "      <th>0</th>\n",
              "      <td>1750-01-01</td>\n",
              "      <td>3.034</td>\n",
              "      <td>3.574</td>\n",
              "      <td>NaN</td>\n",
              "      <td>NaN</td>\n",
              "      <td>NaN</td>\n",
              "      <td>NaN</td>\n",
              "      <td>NaN</td>\n",
              "      <td>NaN</td>\n",
              "    </tr>\n",
              "    <tr>\n",
              "      <th>1</th>\n",
              "      <td>1750-02-01</td>\n",
              "      <td>3.083</td>\n",
              "      <td>3.702</td>\n",
              "      <td>NaN</td>\n",
              "      <td>NaN</td>\n",
              "      <td>NaN</td>\n",
              "      <td>NaN</td>\n",
              "      <td>NaN</td>\n",
              "      <td>NaN</td>\n",
              "    </tr>\n",
              "    <tr>\n",
              "      <th>2</th>\n",
              "      <td>1750-03-01</td>\n",
              "      <td>5.626</td>\n",
              "      <td>3.076</td>\n",
              "      <td>NaN</td>\n",
              "      <td>NaN</td>\n",
              "      <td>NaN</td>\n",
              "      <td>NaN</td>\n",
              "      <td>NaN</td>\n",
              "      <td>NaN</td>\n",
              "    </tr>\n",
              "    <tr>\n",
              "      <th>3</th>\n",
              "      <td>1750-04-01</td>\n",
              "      <td>8.490</td>\n",
              "      <td>2.451</td>\n",
              "      <td>NaN</td>\n",
              "      <td>NaN</td>\n",
              "      <td>NaN</td>\n",
              "      <td>NaN</td>\n",
              "      <td>NaN</td>\n",
              "      <td>NaN</td>\n",
              "    </tr>\n",
              "    <tr>\n",
              "      <th>4</th>\n",
              "      <td>1750-05-01</td>\n",
              "      <td>11.573</td>\n",
              "      <td>2.072</td>\n",
              "      <td>NaN</td>\n",
              "      <td>NaN</td>\n",
              "      <td>NaN</td>\n",
              "      <td>NaN</td>\n",
              "      <td>NaN</td>\n",
              "      <td>NaN</td>\n",
              "    </tr>\n",
              "  </tbody>\n",
              "</table>\n",
              "</div>"
            ],
            "text/plain": [
              "          dt  ...  LandAndOceanAverageTemperatureUncertainty\n",
              "0 1750-01-01  ...                                        NaN\n",
              "1 1750-02-01  ...                                        NaN\n",
              "2 1750-03-01  ...                                        NaN\n",
              "3 1750-04-01  ...                                        NaN\n",
              "4 1750-05-01  ...                                        NaN\n",
              "\n",
              "[5 rows x 9 columns]"
            ]
          },
          "metadata": {},
          "execution_count": 53
        }
      ]
    },
    {
      "cell_type": "markdown",
      "metadata": {
        "id": "vatuc6oNN1Q9"
      },
      "source": [
        "### Major City"
      ]
    },
    {
      "cell_type": "code",
      "metadata": {
        "colab": {
          "base_uri": "https://localhost:8080/",
          "height": 204
        },
        "id": "tfv6mFT-LkTO",
        "outputId": "dbc49cd9-8797-4afa-8b9d-d1cfc0bb26a6"
      },
      "source": [
        "## import MajorCity csv:\n",
        "path = 'https://raw.githubusercontent.com/alexeyserdtse/BigData_practicum/main/MajorCity.csv'\n",
        "MajorCity = pd.read_csv(path,index_col=None)\n",
        "\n",
        "#show first 5 rows.\n",
        "MajorCity.head()"
      ],
      "execution_count": null,
      "outputs": [
        {
          "output_type": "execute_result",
          "data": {
            "text/html": [
              "<div>\n",
              "<style scoped>\n",
              "    .dataframe tbody tr th:only-of-type {\n",
              "        vertical-align: middle;\n",
              "    }\n",
              "\n",
              "    .dataframe tbody tr th {\n",
              "        vertical-align: top;\n",
              "    }\n",
              "\n",
              "    .dataframe thead th {\n",
              "        text-align: right;\n",
              "    }\n",
              "</style>\n",
              "<table border=\"1\" class=\"dataframe\">\n",
              "  <thead>\n",
              "    <tr style=\"text-align: right;\">\n",
              "      <th></th>\n",
              "      <th>dt</th>\n",
              "      <th>AverageTemperature</th>\n",
              "      <th>AverageTemperatureUncertainty</th>\n",
              "      <th>City</th>\n",
              "      <th>Country</th>\n",
              "      <th>Latitude</th>\n",
              "      <th>Longitude</th>\n",
              "    </tr>\n",
              "  </thead>\n",
              "  <tbody>\n",
              "    <tr>\n",
              "      <th>0</th>\n",
              "      <td>1849-01-01</td>\n",
              "      <td>26.704</td>\n",
              "      <td>1.435</td>\n",
              "      <td>Abidjan</td>\n",
              "      <td>Côte D'Ivoire</td>\n",
              "      <td>5.63N</td>\n",
              "      <td>3.23W</td>\n",
              "    </tr>\n",
              "    <tr>\n",
              "      <th>1</th>\n",
              "      <td>1849-02-01</td>\n",
              "      <td>27.434</td>\n",
              "      <td>1.362</td>\n",
              "      <td>Abidjan</td>\n",
              "      <td>Côte D'Ivoire</td>\n",
              "      <td>5.63N</td>\n",
              "      <td>3.23W</td>\n",
              "    </tr>\n",
              "    <tr>\n",
              "      <th>2</th>\n",
              "      <td>1849-03-01</td>\n",
              "      <td>28.101</td>\n",
              "      <td>1.612</td>\n",
              "      <td>Abidjan</td>\n",
              "      <td>Côte D'Ivoire</td>\n",
              "      <td>5.63N</td>\n",
              "      <td>3.23W</td>\n",
              "    </tr>\n",
              "    <tr>\n",
              "      <th>3</th>\n",
              "      <td>1849-04-01</td>\n",
              "      <td>26.140</td>\n",
              "      <td>1.387</td>\n",
              "      <td>Abidjan</td>\n",
              "      <td>Côte D'Ivoire</td>\n",
              "      <td>5.63N</td>\n",
              "      <td>3.23W</td>\n",
              "    </tr>\n",
              "    <tr>\n",
              "      <th>4</th>\n",
              "      <td>1849-05-01</td>\n",
              "      <td>25.427</td>\n",
              "      <td>1.200</td>\n",
              "      <td>Abidjan</td>\n",
              "      <td>Côte D'Ivoire</td>\n",
              "      <td>5.63N</td>\n",
              "      <td>3.23W</td>\n",
              "    </tr>\n",
              "  </tbody>\n",
              "</table>\n",
              "</div>"
            ],
            "text/plain": [
              "           dt  AverageTemperature  ...  Latitude Longitude\n",
              "0  1849-01-01              26.704  ...     5.63N     3.23W\n",
              "1  1849-02-01              27.434  ...     5.63N     3.23W\n",
              "2  1849-03-01              28.101  ...     5.63N     3.23W\n",
              "3  1849-04-01              26.140  ...     5.63N     3.23W\n",
              "4  1849-05-01              25.427  ...     5.63N     3.23W\n",
              "\n",
              "[5 rows x 7 columns]"
            ]
          },
          "metadata": {},
          "execution_count": 5
        }
      ]
    },
    {
      "cell_type": "code",
      "metadata": {
        "colab": {
          "base_uri": "https://localhost:8080/"
        },
        "id": "t30VN_PEzwM-",
        "outputId": "fe154383-fd80-4498-9489-2a60a4942975"
      },
      "source": [
        "# Dataset len:\n",
        "len(MajorCity)"
      ],
      "execution_count": null,
      "outputs": [
        {
          "output_type": "execute_result",
          "data": {
            "text/plain": [
              "239177"
            ]
          },
          "metadata": {},
          "execution_count": 54
        }
      ]
    },
    {
      "cell_type": "code",
      "metadata": {
        "colab": {
          "base_uri": "https://localhost:8080/",
          "height": 297
        },
        "id": "SN3QDxJ3z2l-",
        "outputId": "48ac25a3-cbe4-4cdb-9bd0-62616fd4cd7b"
      },
      "source": [
        "MajorCity.describe()"
      ],
      "execution_count": null,
      "outputs": [
        {
          "output_type": "execute_result",
          "data": {
            "text/html": [
              "<div>\n",
              "<style scoped>\n",
              "    .dataframe tbody tr th:only-of-type {\n",
              "        vertical-align: middle;\n",
              "    }\n",
              "\n",
              "    .dataframe tbody tr th {\n",
              "        vertical-align: top;\n",
              "    }\n",
              "\n",
              "    .dataframe thead th {\n",
              "        text-align: right;\n",
              "    }\n",
              "</style>\n",
              "<table border=\"1\" class=\"dataframe\">\n",
              "  <thead>\n",
              "    <tr style=\"text-align: right;\">\n",
              "      <th></th>\n",
              "      <th>AverageTemperature</th>\n",
              "      <th>AverageTemperatureUncertainty</th>\n",
              "    </tr>\n",
              "  </thead>\n",
              "  <tbody>\n",
              "    <tr>\n",
              "      <th>count</th>\n",
              "      <td>228175.000000</td>\n",
              "      <td>228175.000000</td>\n",
              "    </tr>\n",
              "    <tr>\n",
              "      <th>mean</th>\n",
              "      <td>18.125969</td>\n",
              "      <td>0.969343</td>\n",
              "    </tr>\n",
              "    <tr>\n",
              "      <th>std</th>\n",
              "      <td>10.024800</td>\n",
              "      <td>0.979644</td>\n",
              "    </tr>\n",
              "    <tr>\n",
              "      <th>min</th>\n",
              "      <td>-26.772000</td>\n",
              "      <td>0.040000</td>\n",
              "    </tr>\n",
              "    <tr>\n",
              "      <th>25%</th>\n",
              "      <td>12.710000</td>\n",
              "      <td>0.340000</td>\n",
              "    </tr>\n",
              "    <tr>\n",
              "      <th>50%</th>\n",
              "      <td>20.428000</td>\n",
              "      <td>0.592000</td>\n",
              "    </tr>\n",
              "    <tr>\n",
              "      <th>75%</th>\n",
              "      <td>25.918000</td>\n",
              "      <td>1.320000</td>\n",
              "    </tr>\n",
              "    <tr>\n",
              "      <th>max</th>\n",
              "      <td>38.283000</td>\n",
              "      <td>14.037000</td>\n",
              "    </tr>\n",
              "  </tbody>\n",
              "</table>\n",
              "</div>"
            ],
            "text/plain": [
              "       AverageTemperature  AverageTemperatureUncertainty\n",
              "count       228175.000000                  228175.000000\n",
              "mean            18.125969                       0.969343\n",
              "std             10.024800                       0.979644\n",
              "min            -26.772000                       0.040000\n",
              "25%             12.710000                       0.340000\n",
              "50%             20.428000                       0.592000\n",
              "75%             25.918000                       1.320000\n",
              "max             38.283000                      14.037000"
            ]
          },
          "metadata": {},
          "execution_count": 55
        }
      ]
    },
    {
      "cell_type": "code",
      "metadata": {
        "colab": {
          "base_uri": "https://localhost:8080/"
        },
        "id": "A_FgdYGf0bkz",
        "outputId": "47e1b87a-5153-4c71-da29-96f49a67c43a"
      },
      "source": [
        "print(\"Total Number of Countries: \",len(MajorCity.Country.unique()))\n",
        "MajorCity.Country.unique()"
      ],
      "execution_count": null,
      "outputs": [
        {
          "output_type": "stream",
          "name": "stdout",
          "text": [
            "Total Number of Countries:  49\n"
          ]
        },
        {
          "output_type": "execute_result",
          "data": {
            "text/plain": [
              "array([\"Côte D'Ivoire\", 'Ethiopia', 'India', 'Syria', 'Egypt', 'Turkey',\n",
              "       'Iraq', 'Thailand', 'Brazil', 'Germany', 'Colombia',\n",
              "       'South Africa', 'Morocco', 'China', 'United States', 'Senegal',\n",
              "       'Tanzania', 'Bangladesh', 'Pakistan', 'Zimbabwe', 'Vietnam',\n",
              "       'Nigeria', 'Indonesia', 'Saudi Arabia', 'Afghanistan', 'Ukraine',\n",
              "       'Congo (Democratic Republic Of The)', 'Peru', 'United Kingdom',\n",
              "       'Angola', 'Spain', 'Philippines', 'Iran', 'Australia', 'Mexico',\n",
              "       'Somalia', 'Canada', 'Russia', 'Japan', 'Kenya', 'France', 'Burma',\n",
              "       'Italy', 'Chile', 'Dominican Republic', 'South Korea', 'Singapore',\n",
              "       'Taiwan', 'Sudan'], dtype=object)"
            ]
          },
          "metadata": {},
          "execution_count": 62
        }
      ]
    },
    {
      "cell_type": "code",
      "metadata": {
        "colab": {
          "base_uri": "https://localhost:8080/"
        },
        "id": "ZArCDSoz0p2U",
        "outputId": "d716a857-c80f-4850-c720-daae001d4d2c"
      },
      "source": [
        "print(\"Total Number of Cities: \",len(MajorCity.City.unique()))\n",
        "MajorCity.City.unique()"
      ],
      "execution_count": null,
      "outputs": [
        {
          "output_type": "stream",
          "name": "stdout",
          "text": [
            "Total Number of Cities:  100\n"
          ]
        },
        {
          "output_type": "execute_result",
          "data": {
            "text/plain": [
              "array(['Abidjan', 'Addis Abeba', 'Ahmadabad', 'Aleppo', 'Alexandria',\n",
              "       'Ankara', 'Baghdad', 'Bangalore', 'Bangkok', 'Belo Horizonte',\n",
              "       'Berlin', 'Bogotá', 'Bombay', 'Brasília', 'Cairo', 'Calcutta',\n",
              "       'Cali', 'Cape Town', 'Casablanca', 'Changchun', 'Chengdu',\n",
              "       'Chicago', 'Chongqing', 'Dakar', 'Dalian', 'Dar Es Salaam',\n",
              "       'Delhi', 'Dhaka', 'Durban', 'Faisalabad', 'Fortaleza', 'Gizeh',\n",
              "       'Guangzhou', 'Harare', 'Harbin', 'Ho Chi Minh City', 'Hyderabad',\n",
              "       'Ibadan', 'Istanbul', 'Izmir', 'Jaipur', 'Jakarta', 'Jiddah',\n",
              "       'Jinan', 'Kabul', 'Kano', 'Kanpur', 'Karachi', 'Kiev', 'Kinshasa',\n",
              "       'Lagos', 'Lahore', 'Lakhnau', 'Lima', 'London', 'Los Angeles',\n",
              "       'Luanda', 'Madras', 'Madrid', 'Manila', 'Mashhad', 'Melbourne',\n",
              "       'Mexico', 'Mogadishu', 'Montreal', 'Moscow', 'Nagoya', 'Nagpur',\n",
              "       'Nairobi', 'Nanjing', 'New Delhi', 'New York', 'Paris', 'Peking',\n",
              "       'Pune', 'Rangoon', 'Rio De Janeiro', 'Riyadh', 'Rome', 'São Paulo',\n",
              "       'Saint Petersburg', 'Salvador', 'Santiago', 'Santo Domingo',\n",
              "       'Seoul', 'Shanghai', 'Shenyang', 'Singapore', 'Surabaya', 'Surat',\n",
              "       'Sydney', 'Taipei', 'Taiyuan', 'Tangshan', 'Tianjin', 'Tokyo',\n",
              "       'Toronto', 'Umm Durman', 'Wuhan', 'Xian'], dtype=object)"
            ]
          },
          "metadata": {},
          "execution_count": 63
        }
      ]
    },
    {
      "cell_type": "code",
      "metadata": {
        "colab": {
          "base_uri": "https://localhost:8080/"
        },
        "id": "Qb56v8aj0NPD",
        "outputId": "1ac4ef58-1223-4a8c-947e-64017b0dfc68"
      },
      "source": [
        "MajorCity.info()"
      ],
      "execution_count": null,
      "outputs": [
        {
          "output_type": "stream",
          "name": "stdout",
          "text": [
            "<class 'pandas.core.frame.DataFrame'>\n",
            "RangeIndex: 239177 entries, 0 to 239176\n",
            "Data columns (total 7 columns):\n",
            " #   Column                         Non-Null Count   Dtype  \n",
            "---  ------                         --------------   -----  \n",
            " 0   dt                             239177 non-null  object \n",
            " 1   AverageTemperature             228175 non-null  float64\n",
            " 2   AverageTemperatureUncertainty  228175 non-null  float64\n",
            " 3   City                           239177 non-null  object \n",
            " 4   Country                        239177 non-null  object \n",
            " 5   Latitude                       239177 non-null  object \n",
            " 6   Longitude                      239177 non-null  object \n",
            "dtypes: float64(2), object(5)\n",
            "memory usage: 12.8+ MB\n"
          ]
        }
      ]
    },
    {
      "cell_type": "code",
      "metadata": {
        "colab": {
          "base_uri": "https://localhost:8080/",
          "height": 204
        },
        "id": "9euBu82W2TDG",
        "outputId": "2b7b42ce-2579-4ca3-9bfd-5e3d0a4d3107"
      },
      "source": [
        "# Drop duplicates:\n",
        "MajorCity = MajorCity.drop_duplicates()\n",
        "\n",
        "# delete extra whitespaces & Capitize every column.\n",
        "MajorCity['Country'] = MajorCity['Country'].str.strip()\n",
        "MajorCity['Country'] = MajorCity['Country'].str.title()\n",
        "MajorCity['City'] = MajorCity['City'].str.strip()\n",
        "MajorCity['City'] = MajorCity['City'].str.title()\n",
        "\n",
        "# Convert date column from object (str) to datetime:\n",
        "MajorCity['dt'] = pd.to_datetime(MajorCity['dt'])\n",
        "\n",
        "# Convert all values in  AverageTemperature and AverageTemperatureUncertainty to float\n",
        "MajorCity = MajorCity.astype({'AverageTemperature': 'float',\n",
        "                               'AverageTemperatureUncertainty': 'float'\n",
        "                               })\n",
        "\n",
        "MajorCity.head()"
      ],
      "execution_count": null,
      "outputs": [
        {
          "output_type": "execute_result",
          "data": {
            "text/html": [
              "<div>\n",
              "<style scoped>\n",
              "    .dataframe tbody tr th:only-of-type {\n",
              "        vertical-align: middle;\n",
              "    }\n",
              "\n",
              "    .dataframe tbody tr th {\n",
              "        vertical-align: top;\n",
              "    }\n",
              "\n",
              "    .dataframe thead th {\n",
              "        text-align: right;\n",
              "    }\n",
              "</style>\n",
              "<table border=\"1\" class=\"dataframe\">\n",
              "  <thead>\n",
              "    <tr style=\"text-align: right;\">\n",
              "      <th></th>\n",
              "      <th>dt</th>\n",
              "      <th>AverageTemperature</th>\n",
              "      <th>AverageTemperatureUncertainty</th>\n",
              "      <th>City</th>\n",
              "      <th>Country</th>\n",
              "      <th>Latitude</th>\n",
              "      <th>Longitude</th>\n",
              "    </tr>\n",
              "  </thead>\n",
              "  <tbody>\n",
              "    <tr>\n",
              "      <th>0</th>\n",
              "      <td>1849-01-01</td>\n",
              "      <td>26.704</td>\n",
              "      <td>1.435</td>\n",
              "      <td>Abidjan</td>\n",
              "      <td>Côte D'Ivoire</td>\n",
              "      <td>5.63N</td>\n",
              "      <td>3.23W</td>\n",
              "    </tr>\n",
              "    <tr>\n",
              "      <th>1</th>\n",
              "      <td>1849-02-01</td>\n",
              "      <td>27.434</td>\n",
              "      <td>1.362</td>\n",
              "      <td>Abidjan</td>\n",
              "      <td>Côte D'Ivoire</td>\n",
              "      <td>5.63N</td>\n",
              "      <td>3.23W</td>\n",
              "    </tr>\n",
              "    <tr>\n",
              "      <th>2</th>\n",
              "      <td>1849-03-01</td>\n",
              "      <td>28.101</td>\n",
              "      <td>1.612</td>\n",
              "      <td>Abidjan</td>\n",
              "      <td>Côte D'Ivoire</td>\n",
              "      <td>5.63N</td>\n",
              "      <td>3.23W</td>\n",
              "    </tr>\n",
              "    <tr>\n",
              "      <th>3</th>\n",
              "      <td>1849-04-01</td>\n",
              "      <td>26.140</td>\n",
              "      <td>1.387</td>\n",
              "      <td>Abidjan</td>\n",
              "      <td>Côte D'Ivoire</td>\n",
              "      <td>5.63N</td>\n",
              "      <td>3.23W</td>\n",
              "    </tr>\n",
              "    <tr>\n",
              "      <th>4</th>\n",
              "      <td>1849-05-01</td>\n",
              "      <td>25.427</td>\n",
              "      <td>1.200</td>\n",
              "      <td>Abidjan</td>\n",
              "      <td>Côte D'Ivoire</td>\n",
              "      <td>5.63N</td>\n",
              "      <td>3.23W</td>\n",
              "    </tr>\n",
              "  </tbody>\n",
              "</table>\n",
              "</div>"
            ],
            "text/plain": [
              "          dt  AverageTemperature  ...  Latitude Longitude\n",
              "0 1849-01-01              26.704  ...     5.63N     3.23W\n",
              "1 1849-02-01              27.434  ...     5.63N     3.23W\n",
              "2 1849-03-01              28.101  ...     5.63N     3.23W\n",
              "3 1849-04-01              26.140  ...     5.63N     3.23W\n",
              "4 1849-05-01              25.427  ...     5.63N     3.23W\n",
              "\n",
              "[5 rows x 7 columns]"
            ]
          },
          "metadata": {},
          "execution_count": 64
        }
      ]
    },
    {
      "cell_type": "markdown",
      "metadata": {
        "id": "XAx9llH0XLn_"
      },
      "source": [
        "### State"
      ]
    },
    {
      "cell_type": "code",
      "metadata": {
        "colab": {
          "base_uri": "https://localhost:8080/",
          "height": 204
        },
        "id": "uIs1DuJFOMh3",
        "outputId": "705254bd-d603-4647-9bc0-b58e515d2fe2"
      },
      "source": [
        "## import State csv:\n",
        "path = 'https://raw.githubusercontent.com/alexeyserdtse/BigData_practicum/main/State.csv'\n",
        "State = pd.read_csv(path,index_col=None)\n",
        "\n",
        "#show first 5 rows.\n",
        "State.head()"
      ],
      "execution_count": null,
      "outputs": [
        {
          "output_type": "execute_result",
          "data": {
            "text/html": [
              "<div>\n",
              "<style scoped>\n",
              "    .dataframe tbody tr th:only-of-type {\n",
              "        vertical-align: middle;\n",
              "    }\n",
              "\n",
              "    .dataframe tbody tr th {\n",
              "        vertical-align: top;\n",
              "    }\n",
              "\n",
              "    .dataframe thead th {\n",
              "        text-align: right;\n",
              "    }\n",
              "</style>\n",
              "<table border=\"1\" class=\"dataframe\">\n",
              "  <thead>\n",
              "    <tr style=\"text-align: right;\">\n",
              "      <th></th>\n",
              "      <th>dt</th>\n",
              "      <th>AverageTemperature</th>\n",
              "      <th>AverageTemperatureUncertainty</th>\n",
              "      <th>State</th>\n",
              "      <th>Country</th>\n",
              "    </tr>\n",
              "  </thead>\n",
              "  <tbody>\n",
              "    <tr>\n",
              "      <th>0</th>\n",
              "      <td>1855-05-01</td>\n",
              "      <td>25.544</td>\n",
              "      <td>1.171</td>\n",
              "      <td>Acre</td>\n",
              "      <td>Brazil</td>\n",
              "    </tr>\n",
              "    <tr>\n",
              "      <th>1</th>\n",
              "      <td>1855-06-01</td>\n",
              "      <td>24.228</td>\n",
              "      <td>1.103</td>\n",
              "      <td>Acre</td>\n",
              "      <td>Brazil</td>\n",
              "    </tr>\n",
              "    <tr>\n",
              "      <th>2</th>\n",
              "      <td>1855-07-01</td>\n",
              "      <td>24.371</td>\n",
              "      <td>1.044</td>\n",
              "      <td>Acre</td>\n",
              "      <td>Brazil</td>\n",
              "    </tr>\n",
              "    <tr>\n",
              "      <th>3</th>\n",
              "      <td>1855-08-01</td>\n",
              "      <td>25.427</td>\n",
              "      <td>1.073</td>\n",
              "      <td>Acre</td>\n",
              "      <td>Brazil</td>\n",
              "    </tr>\n",
              "    <tr>\n",
              "      <th>4</th>\n",
              "      <td>1855-09-01</td>\n",
              "      <td>25.675</td>\n",
              "      <td>1.014</td>\n",
              "      <td>Acre</td>\n",
              "      <td>Brazil</td>\n",
              "    </tr>\n",
              "  </tbody>\n",
              "</table>\n",
              "</div>"
            ],
            "text/plain": [
              "           dt  AverageTemperature  AverageTemperatureUncertainty State Country\n",
              "0  1855-05-01              25.544                          1.171  Acre  Brazil\n",
              "1  1855-06-01              24.228                          1.103  Acre  Brazil\n",
              "2  1855-07-01              24.371                          1.044  Acre  Brazil\n",
              "3  1855-08-01              25.427                          1.073  Acre  Brazil\n",
              "4  1855-09-01              25.675                          1.014  Acre  Brazil"
            ]
          },
          "metadata": {},
          "execution_count": 77
        }
      ]
    },
    {
      "cell_type": "code",
      "metadata": {
        "colab": {
          "base_uri": "https://localhost:8080/",
          "height": 297
        },
        "id": "TEOqS3KR3UT2",
        "outputId": "05d3e6a0-cf66-4227-9439-47dba8e25fef"
      },
      "source": [
        "State.describe()"
      ],
      "execution_count": null,
      "outputs": [
        {
          "output_type": "execute_result",
          "data": {
            "text/html": [
              "<div>\n",
              "<style scoped>\n",
              "    .dataframe tbody tr th:only-of-type {\n",
              "        vertical-align: middle;\n",
              "    }\n",
              "\n",
              "    .dataframe tbody tr th {\n",
              "        vertical-align: top;\n",
              "    }\n",
              "\n",
              "    .dataframe thead th {\n",
              "        text-align: right;\n",
              "    }\n",
              "</style>\n",
              "<table border=\"1\" class=\"dataframe\">\n",
              "  <thead>\n",
              "    <tr style=\"text-align: right;\">\n",
              "      <th></th>\n",
              "      <th>AverageTemperature</th>\n",
              "      <th>AverageTemperatureUncertainty</th>\n",
              "    </tr>\n",
              "  </thead>\n",
              "  <tbody>\n",
              "    <tr>\n",
              "      <th>count</th>\n",
              "      <td>620027.000000</td>\n",
              "      <td>620027.000000</td>\n",
              "    </tr>\n",
              "    <tr>\n",
              "      <th>mean</th>\n",
              "      <td>8.993111</td>\n",
              "      <td>1.287647</td>\n",
              "    </tr>\n",
              "    <tr>\n",
              "      <th>std</th>\n",
              "      <td>13.772150</td>\n",
              "      <td>1.360392</td>\n",
              "    </tr>\n",
              "    <tr>\n",
              "      <th>min</th>\n",
              "      <td>-45.389000</td>\n",
              "      <td>0.036000</td>\n",
              "    </tr>\n",
              "    <tr>\n",
              "      <th>25%</th>\n",
              "      <td>-0.693000</td>\n",
              "      <td>0.316000</td>\n",
              "    </tr>\n",
              "    <tr>\n",
              "      <th>50%</th>\n",
              "      <td>11.199000</td>\n",
              "      <td>0.656000</td>\n",
              "    </tr>\n",
              "    <tr>\n",
              "      <th>75%</th>\n",
              "      <td>19.899000</td>\n",
              "      <td>1.850000</td>\n",
              "    </tr>\n",
              "    <tr>\n",
              "      <th>max</th>\n",
              "      <td>36.339000</td>\n",
              "      <td>12.646000</td>\n",
              "    </tr>\n",
              "  </tbody>\n",
              "</table>\n",
              "</div>"
            ],
            "text/plain": [
              "       AverageTemperature  AverageTemperatureUncertainty\n",
              "count       620027.000000                  620027.000000\n",
              "mean             8.993111                       1.287647\n",
              "std             13.772150                       1.360392\n",
              "min            -45.389000                       0.036000\n",
              "25%             -0.693000                       0.316000\n",
              "50%             11.199000                       0.656000\n",
              "75%             19.899000                       1.850000\n",
              "max             36.339000                      12.646000"
            ]
          },
          "metadata": {},
          "execution_count": 65
        }
      ]
    },
    {
      "cell_type": "code",
      "metadata": {
        "colab": {
          "base_uri": "https://localhost:8080/"
        },
        "id": "-Kdcfcvv3g8B",
        "outputId": "9d1cbbb4-e7f5-4a2e-c2e0-0b1442690cf7"
      },
      "source": [
        "State.info()"
      ],
      "execution_count": null,
      "outputs": [
        {
          "output_type": "stream",
          "name": "stdout",
          "text": [
            "<class 'pandas.core.frame.DataFrame'>\n",
            "RangeIndex: 645675 entries, 0 to 645674\n",
            "Data columns (total 5 columns):\n",
            " #   Column                         Non-Null Count   Dtype  \n",
            "---  ------                         --------------   -----  \n",
            " 0   dt                             645675 non-null  object \n",
            " 1   AverageTemperature             620027 non-null  float64\n",
            " 2   AverageTemperatureUncertainty  620027 non-null  float64\n",
            " 3   State                          645675 non-null  object \n",
            " 4   Country                        645675 non-null  object \n",
            "dtypes: float64(2), object(3)\n",
            "memory usage: 24.6+ MB\n"
          ]
        }
      ]
    },
    {
      "cell_type": "code",
      "metadata": {
        "colab": {
          "base_uri": "https://localhost:8080/",
          "height": 204
        },
        "id": "LSYpuD3x3rnb",
        "outputId": "5a0e284c-652d-49f6-c229-ed68f7bb4392"
      },
      "source": [
        "# Drop duplicates:\n",
        "State = State.drop_duplicates()\n",
        "\n",
        "# delete extra whitespaces & Capitize every column.\n",
        "State['Country'] = State['Country'].str.strip()\n",
        "State['Country'] = State['Country'].str.title()\n",
        "State['State'] = State['State'].str.strip()\n",
        "State['State'] = State['State'].str.title()\n",
        "\n",
        "# Convert date column from object (str) to datetime:\n",
        "State['dt'] = pd.to_datetime(State['dt'])\n",
        "\n",
        "# Convert all values in  AverageTemperature and AverageTemperatureUncertainty to float\n",
        "State = State.astype({'AverageTemperature': 'float',\n",
        "                               'AverageTemperatureUncertainty': 'float'\n",
        "                               })\n",
        "\n",
        "State.head()"
      ],
      "execution_count": null,
      "outputs": [
        {
          "output_type": "execute_result",
          "data": {
            "text/html": [
              "<div>\n",
              "<style scoped>\n",
              "    .dataframe tbody tr th:only-of-type {\n",
              "        vertical-align: middle;\n",
              "    }\n",
              "\n",
              "    .dataframe tbody tr th {\n",
              "        vertical-align: top;\n",
              "    }\n",
              "\n",
              "    .dataframe thead th {\n",
              "        text-align: right;\n",
              "    }\n",
              "</style>\n",
              "<table border=\"1\" class=\"dataframe\">\n",
              "  <thead>\n",
              "    <tr style=\"text-align: right;\">\n",
              "      <th></th>\n",
              "      <th>dt</th>\n",
              "      <th>AverageTemperature</th>\n",
              "      <th>AverageTemperatureUncertainty</th>\n",
              "      <th>State</th>\n",
              "      <th>Country</th>\n",
              "    </tr>\n",
              "  </thead>\n",
              "  <tbody>\n",
              "    <tr>\n",
              "      <th>0</th>\n",
              "      <td>1855-05-01</td>\n",
              "      <td>25.544</td>\n",
              "      <td>1.171</td>\n",
              "      <td>Acre</td>\n",
              "      <td>Brazil</td>\n",
              "    </tr>\n",
              "    <tr>\n",
              "      <th>1</th>\n",
              "      <td>1855-06-01</td>\n",
              "      <td>24.228</td>\n",
              "      <td>1.103</td>\n",
              "      <td>Acre</td>\n",
              "      <td>Brazil</td>\n",
              "    </tr>\n",
              "    <tr>\n",
              "      <th>2</th>\n",
              "      <td>1855-07-01</td>\n",
              "      <td>24.371</td>\n",
              "      <td>1.044</td>\n",
              "      <td>Acre</td>\n",
              "      <td>Brazil</td>\n",
              "    </tr>\n",
              "    <tr>\n",
              "      <th>3</th>\n",
              "      <td>1855-08-01</td>\n",
              "      <td>25.427</td>\n",
              "      <td>1.073</td>\n",
              "      <td>Acre</td>\n",
              "      <td>Brazil</td>\n",
              "    </tr>\n",
              "    <tr>\n",
              "      <th>4</th>\n",
              "      <td>1855-09-01</td>\n",
              "      <td>25.675</td>\n",
              "      <td>1.014</td>\n",
              "      <td>Acre</td>\n",
              "      <td>Brazil</td>\n",
              "    </tr>\n",
              "  </tbody>\n",
              "</table>\n",
              "</div>"
            ],
            "text/plain": [
              "          dt  AverageTemperature  AverageTemperatureUncertainty State Country\n",
              "0 1855-05-01              25.544                          1.171  Acre  Brazil\n",
              "1 1855-06-01              24.228                          1.103  Acre  Brazil\n",
              "2 1855-07-01              24.371                          1.044  Acre  Brazil\n",
              "3 1855-08-01              25.427                          1.073  Acre  Brazil\n",
              "4 1855-09-01              25.675                          1.014  Acre  Brazil"
            ]
          },
          "metadata": {},
          "execution_count": 68
        }
      ]
    },
    {
      "cell_type": "markdown",
      "metadata": {
        "id": "uqTNlreyad41"
      },
      "source": [
        "### CityTemp"
      ]
    },
    {
      "cell_type": "code",
      "metadata": {
        "colab": {
          "base_uri": "https://localhost:8080/",
          "height": 110
        },
        "id": "BW__RTCvX3mR",
        "outputId": "7ee0599a-9459-4363-9e62-0715cac903b4"
      },
      "source": [
        "## import CityTemp csv:\n",
        "path = 'https://raw.githubusercontent.com/alexeyserdtse/BigData_practicum/main/CityTemp.csv'\n",
        "CityTemp = pd.read_csv(path,index_col=None)\n",
        "\n",
        "#show first 5 rows.\n",
        "CityTemp.head()"
      ],
      "execution_count": 4,
      "outputs": [
        {
          "output_type": "execute_result",
          "data": {
            "text/html": [
              "<div>\n",
              "<style scoped>\n",
              "    .dataframe tbody tr th:only-of-type {\n",
              "        vertical-align: middle;\n",
              "    }\n",
              "\n",
              "    .dataframe tbody tr th {\n",
              "        vertical-align: top;\n",
              "    }\n",
              "\n",
              "    .dataframe thead th {\n",
              "        text-align: right;\n",
              "    }\n",
              "</style>\n",
              "<table border=\"1\" class=\"dataframe\">\n",
              "  <thead>\n",
              "    <tr style=\"text-align: right;\">\n",
              "      <th></th>\n",
              "      <th>version https://git-lfs.github.com/spec/v1</th>\n",
              "    </tr>\n",
              "  </thead>\n",
              "  <tbody>\n",
              "    <tr>\n",
              "      <th>0</th>\n",
              "      <td>oid sha256:9be86b51487f10e811a0ab43a75946739df...</td>\n",
              "    </tr>\n",
              "    <tr>\n",
              "      <th>1</th>\n",
              "      <td>size 532830464</td>\n",
              "    </tr>\n",
              "  </tbody>\n",
              "</table>\n",
              "</div>"
            ],
            "text/plain": [
              "          version https://git-lfs.github.com/spec/v1\n",
              "0  oid sha256:9be86b51487f10e811a0ab43a75946739df...\n",
              "1                                     size 532830464"
            ]
          },
          "metadata": {},
          "execution_count": 4
        }
      ]
    },
    {
      "cell_type": "code",
      "metadata": {
        "colab": {
          "base_uri": "https://localhost:8080/",
          "height": 297
        },
        "id": "qlqUmmdtUCmH",
        "outputId": "6d9b4cdc-e793-427a-98b1-6bbafd5bf70d"
      },
      "source": [
        "CityTemp.describe()"
      ],
      "execution_count": null,
      "outputs": [
        {
          "output_type": "execute_result",
          "data": {
            "text/html": [
              "<div>\n",
              "<style scoped>\n",
              "    .dataframe tbody tr th:only-of-type {\n",
              "        vertical-align: middle;\n",
              "    }\n",
              "\n",
              "    .dataframe tbody tr th {\n",
              "        vertical-align: top;\n",
              "    }\n",
              "\n",
              "    .dataframe thead th {\n",
              "        text-align: right;\n",
              "    }\n",
              "</style>\n",
              "<table border=\"1\" class=\"dataframe\">\n",
              "  <thead>\n",
              "    <tr style=\"text-align: right;\">\n",
              "      <th></th>\n",
              "      <th>AverageTemperature</th>\n",
              "      <th>AverageTemperatureUncertainty</th>\n",
              "    </tr>\n",
              "  </thead>\n",
              "  <tbody>\n",
              "    <tr>\n",
              "      <th>count</th>\n",
              "      <td>8.235082e+06</td>\n",
              "      <td>8.235082e+06</td>\n",
              "    </tr>\n",
              "    <tr>\n",
              "      <th>mean</th>\n",
              "      <td>1.672743e+01</td>\n",
              "      <td>1.028575e+00</td>\n",
              "    </tr>\n",
              "    <tr>\n",
              "      <th>std</th>\n",
              "      <td>1.035344e+01</td>\n",
              "      <td>1.129733e+00</td>\n",
              "    </tr>\n",
              "    <tr>\n",
              "      <th>min</th>\n",
              "      <td>-4.270400e+01</td>\n",
              "      <td>3.400000e-02</td>\n",
              "    </tr>\n",
              "    <tr>\n",
              "      <th>25%</th>\n",
              "      <td>1.029900e+01</td>\n",
              "      <td>3.370000e-01</td>\n",
              "    </tr>\n",
              "    <tr>\n",
              "      <th>50%</th>\n",
              "      <td>1.883100e+01</td>\n",
              "      <td>5.910000e-01</td>\n",
              "    </tr>\n",
              "    <tr>\n",
              "      <th>75%</th>\n",
              "      <td>2.521000e+01</td>\n",
              "      <td>1.349000e+00</td>\n",
              "    </tr>\n",
              "    <tr>\n",
              "      <th>max</th>\n",
              "      <td>3.965100e+01</td>\n",
              "      <td>1.539600e+01</td>\n",
              "    </tr>\n",
              "  </tbody>\n",
              "</table>\n",
              "</div>"
            ],
            "text/plain": [
              "       AverageTemperature  AverageTemperatureUncertainty\n",
              "count        8.235082e+06                   8.235082e+06\n",
              "mean         1.672743e+01                   1.028575e+00\n",
              "std          1.035344e+01                   1.129733e+00\n",
              "min         -4.270400e+01                   3.400000e-02\n",
              "25%          1.029900e+01                   3.370000e-01\n",
              "50%          1.883100e+01                   5.910000e-01\n",
              "75%          2.521000e+01                   1.349000e+00\n",
              "max          3.965100e+01                   1.539600e+01"
            ]
          },
          "metadata": {},
          "execution_count": 69
        }
      ]
    },
    {
      "cell_type": "code",
      "metadata": {
        "colab": {
          "base_uri": "https://localhost:8080/"
        },
        "id": "84w7D4Cv4n94",
        "outputId": "dcd0922a-adfc-4342-eebb-65bcf4672553"
      },
      "source": [
        "CityTemp.info()"
      ],
      "execution_count": null,
      "outputs": [
        {
          "output_type": "stream",
          "name": "stdout",
          "text": [
            "<class 'pandas.core.frame.DataFrame'>\n",
            "RangeIndex: 8599212 entries, 0 to 8599211\n",
            "Data columns (total 7 columns):\n",
            " #   Column                         Dtype  \n",
            "---  ------                         -----  \n",
            " 0   dt                             object \n",
            " 1   AverageTemperature             float64\n",
            " 2   AverageTemperatureUncertainty  float64\n",
            " 3   City                           object \n",
            " 4   Country                        object \n",
            " 5   Latitude                       object \n",
            " 6   Longitude                      object \n",
            "dtypes: float64(2), object(5)\n",
            "memory usage: 459.2+ MB\n"
          ]
        }
      ]
    },
    {
      "cell_type": "code",
      "metadata": {
        "colab": {
          "base_uri": "https://localhost:8080/",
          "height": 561
        },
        "id": "MSL6wjuy4uBt",
        "outputId": "28ac0fc5-f2c7-45c1-a329-f6db7ca604c7"
      },
      "source": [
        "# Drop duplicates:\n",
        "CityTemp = State.drop_duplicates()\n",
        "\n",
        "# delete extra whitespaces & Capitize every column.\n",
        "CityTemp['Country'] = CityTemp['Country'].str.strip()\n",
        "CityTemp['Country'] = CityTemp['Country'].str.title()\n",
        "CityTemp['City'] = CityTemp['City'].str.strip()\n",
        "CityTemp['City'] = CityTemp['City'].str.title()\n",
        "\n",
        "# Convert date column from object (str) to datetime:\n",
        "CityTemp['dt'] = pd.to_datetime(CityTemp['dt'])\n",
        "\n",
        "# Convert all values in  AverageTemperature and AverageTemperatureUncertainty to float\n",
        "CityTemp = CityTemp.astype({'AverageTemperature': 'float',\n",
        "                               'AverageTemperatureUncertainty': 'float'\n",
        "                               })\n",
        "\n",
        "CityTemp.head()"
      ],
      "execution_count": null,
      "outputs": [
        {
          "output_type": "error",
          "ename": "KeyError",
          "evalue": "ignored",
          "traceback": [
            "\u001b[0;31m---------------------------------------------------------------------------\u001b[0m",
            "\u001b[0;31mKeyError\u001b[0m                                  Traceback (most recent call last)",
            "\u001b[0;32m/usr/local/lib/python3.7/dist-packages/pandas/core/indexes/base.py\u001b[0m in \u001b[0;36mget_loc\u001b[0;34m(self, key, method, tolerance)\u001b[0m\n\u001b[1;32m   2897\u001b[0m             \u001b[0;32mtry\u001b[0m\u001b[0;34m:\u001b[0m\u001b[0;34m\u001b[0m\u001b[0;34m\u001b[0m\u001b[0m\n\u001b[0;32m-> 2898\u001b[0;31m                 \u001b[0;32mreturn\u001b[0m \u001b[0mself\u001b[0m\u001b[0;34m.\u001b[0m\u001b[0m_engine\u001b[0m\u001b[0;34m.\u001b[0m\u001b[0mget_loc\u001b[0m\u001b[0;34m(\u001b[0m\u001b[0mcasted_key\u001b[0m\u001b[0;34m)\u001b[0m\u001b[0;34m\u001b[0m\u001b[0;34m\u001b[0m\u001b[0m\n\u001b[0m\u001b[1;32m   2899\u001b[0m             \u001b[0;32mexcept\u001b[0m \u001b[0mKeyError\u001b[0m \u001b[0;32mas\u001b[0m \u001b[0merr\u001b[0m\u001b[0;34m:\u001b[0m\u001b[0;34m\u001b[0m\u001b[0;34m\u001b[0m\u001b[0m\n",
            "\u001b[0;32mpandas/_libs/index.pyx\u001b[0m in \u001b[0;36mpandas._libs.index.IndexEngine.get_loc\u001b[0;34m()\u001b[0m\n",
            "\u001b[0;32mpandas/_libs/index.pyx\u001b[0m in \u001b[0;36mpandas._libs.index.IndexEngine.get_loc\u001b[0;34m()\u001b[0m\n",
            "\u001b[0;32mpandas/_libs/hashtable_class_helper.pxi\u001b[0m in \u001b[0;36mpandas._libs.hashtable.PyObjectHashTable.get_item\u001b[0;34m()\u001b[0m\n",
            "\u001b[0;32mpandas/_libs/hashtable_class_helper.pxi\u001b[0m in \u001b[0;36mpandas._libs.hashtable.PyObjectHashTable.get_item\u001b[0;34m()\u001b[0m\n",
            "\u001b[0;31mKeyError\u001b[0m: 'City'",
            "\nThe above exception was the direct cause of the following exception:\n",
            "\u001b[0;31mKeyError\u001b[0m                                  Traceback (most recent call last)",
            "\u001b[0;32m<ipython-input-73-7c721052bbbd>\u001b[0m in \u001b[0;36m<module>\u001b[0;34m()\u001b[0m\n\u001b[1;32m      5\u001b[0m \u001b[0mCityTemp\u001b[0m\u001b[0;34m[\u001b[0m\u001b[0;34m'Country'\u001b[0m\u001b[0;34m]\u001b[0m \u001b[0;34m=\u001b[0m \u001b[0mCityTemp\u001b[0m\u001b[0;34m[\u001b[0m\u001b[0;34m'Country'\u001b[0m\u001b[0;34m]\u001b[0m\u001b[0;34m.\u001b[0m\u001b[0mstr\u001b[0m\u001b[0;34m.\u001b[0m\u001b[0mstrip\u001b[0m\u001b[0;34m(\u001b[0m\u001b[0;34m)\u001b[0m\u001b[0;34m\u001b[0m\u001b[0;34m\u001b[0m\u001b[0m\n\u001b[1;32m      6\u001b[0m \u001b[0mCityTemp\u001b[0m\u001b[0;34m[\u001b[0m\u001b[0;34m'Country'\u001b[0m\u001b[0;34m]\u001b[0m \u001b[0;34m=\u001b[0m \u001b[0mCityTemp\u001b[0m\u001b[0;34m[\u001b[0m\u001b[0;34m'Country'\u001b[0m\u001b[0;34m]\u001b[0m\u001b[0;34m.\u001b[0m\u001b[0mstr\u001b[0m\u001b[0;34m.\u001b[0m\u001b[0mtitle\u001b[0m\u001b[0;34m(\u001b[0m\u001b[0;34m)\u001b[0m\u001b[0;34m\u001b[0m\u001b[0;34m\u001b[0m\u001b[0m\n\u001b[0;32m----> 7\u001b[0;31m \u001b[0mCityTemp\u001b[0m\u001b[0;34m[\u001b[0m\u001b[0;34m'City'\u001b[0m\u001b[0;34m]\u001b[0m \u001b[0;34m=\u001b[0m \u001b[0mCityTemp\u001b[0m\u001b[0;34m[\u001b[0m\u001b[0;34m'City'\u001b[0m\u001b[0;34m]\u001b[0m\u001b[0;34m.\u001b[0m\u001b[0mstr\u001b[0m\u001b[0;34m.\u001b[0m\u001b[0mstrip\u001b[0m\u001b[0;34m(\u001b[0m\u001b[0;34m)\u001b[0m\u001b[0;34m\u001b[0m\u001b[0;34m\u001b[0m\u001b[0m\n\u001b[0m\u001b[1;32m      8\u001b[0m \u001b[0mCityTemp\u001b[0m\u001b[0;34m[\u001b[0m\u001b[0;34m'City'\u001b[0m\u001b[0;34m]\u001b[0m \u001b[0;34m=\u001b[0m \u001b[0mCityTemp\u001b[0m\u001b[0;34m[\u001b[0m\u001b[0;34m'City'\u001b[0m\u001b[0;34m]\u001b[0m\u001b[0;34m.\u001b[0m\u001b[0mstr\u001b[0m\u001b[0;34m.\u001b[0m\u001b[0mtitle\u001b[0m\u001b[0;34m(\u001b[0m\u001b[0;34m)\u001b[0m\u001b[0;34m\u001b[0m\u001b[0;34m\u001b[0m\u001b[0m\n\u001b[1;32m      9\u001b[0m \u001b[0;34m\u001b[0m\u001b[0m\n",
            "\u001b[0;32m/usr/local/lib/python3.7/dist-packages/pandas/core/frame.py\u001b[0m in \u001b[0;36m__getitem__\u001b[0;34m(self, key)\u001b[0m\n\u001b[1;32m   2904\u001b[0m             \u001b[0;32mif\u001b[0m \u001b[0mself\u001b[0m\u001b[0;34m.\u001b[0m\u001b[0mcolumns\u001b[0m\u001b[0;34m.\u001b[0m\u001b[0mnlevels\u001b[0m \u001b[0;34m>\u001b[0m \u001b[0;36m1\u001b[0m\u001b[0;34m:\u001b[0m\u001b[0;34m\u001b[0m\u001b[0;34m\u001b[0m\u001b[0m\n\u001b[1;32m   2905\u001b[0m                 \u001b[0;32mreturn\u001b[0m \u001b[0mself\u001b[0m\u001b[0;34m.\u001b[0m\u001b[0m_getitem_multilevel\u001b[0m\u001b[0;34m(\u001b[0m\u001b[0mkey\u001b[0m\u001b[0;34m)\u001b[0m\u001b[0;34m\u001b[0m\u001b[0;34m\u001b[0m\u001b[0m\n\u001b[0;32m-> 2906\u001b[0;31m             \u001b[0mindexer\u001b[0m \u001b[0;34m=\u001b[0m \u001b[0mself\u001b[0m\u001b[0;34m.\u001b[0m\u001b[0mcolumns\u001b[0m\u001b[0;34m.\u001b[0m\u001b[0mget_loc\u001b[0m\u001b[0;34m(\u001b[0m\u001b[0mkey\u001b[0m\u001b[0;34m)\u001b[0m\u001b[0;34m\u001b[0m\u001b[0;34m\u001b[0m\u001b[0m\n\u001b[0m\u001b[1;32m   2907\u001b[0m             \u001b[0;32mif\u001b[0m \u001b[0mis_integer\u001b[0m\u001b[0;34m(\u001b[0m\u001b[0mindexer\u001b[0m\u001b[0;34m)\u001b[0m\u001b[0;34m:\u001b[0m\u001b[0;34m\u001b[0m\u001b[0;34m\u001b[0m\u001b[0m\n\u001b[1;32m   2908\u001b[0m                 \u001b[0mindexer\u001b[0m \u001b[0;34m=\u001b[0m \u001b[0;34m[\u001b[0m\u001b[0mindexer\u001b[0m\u001b[0;34m]\u001b[0m\u001b[0;34m\u001b[0m\u001b[0;34m\u001b[0m\u001b[0m\n",
            "\u001b[0;32m/usr/local/lib/python3.7/dist-packages/pandas/core/indexes/base.py\u001b[0m in \u001b[0;36mget_loc\u001b[0;34m(self, key, method, tolerance)\u001b[0m\n\u001b[1;32m   2898\u001b[0m                 \u001b[0;32mreturn\u001b[0m \u001b[0mself\u001b[0m\u001b[0;34m.\u001b[0m\u001b[0m_engine\u001b[0m\u001b[0;34m.\u001b[0m\u001b[0mget_loc\u001b[0m\u001b[0;34m(\u001b[0m\u001b[0mcasted_key\u001b[0m\u001b[0;34m)\u001b[0m\u001b[0;34m\u001b[0m\u001b[0;34m\u001b[0m\u001b[0m\n\u001b[1;32m   2899\u001b[0m             \u001b[0;32mexcept\u001b[0m \u001b[0mKeyError\u001b[0m \u001b[0;32mas\u001b[0m \u001b[0merr\u001b[0m\u001b[0;34m:\u001b[0m\u001b[0;34m\u001b[0m\u001b[0;34m\u001b[0m\u001b[0m\n\u001b[0;32m-> 2900\u001b[0;31m                 \u001b[0;32mraise\u001b[0m \u001b[0mKeyError\u001b[0m\u001b[0;34m(\u001b[0m\u001b[0mkey\u001b[0m\u001b[0;34m)\u001b[0m \u001b[0;32mfrom\u001b[0m \u001b[0merr\u001b[0m\u001b[0;34m\u001b[0m\u001b[0;34m\u001b[0m\u001b[0m\n\u001b[0m\u001b[1;32m   2901\u001b[0m \u001b[0;34m\u001b[0m\u001b[0m\n\u001b[1;32m   2902\u001b[0m         \u001b[0;32mif\u001b[0m \u001b[0mtolerance\u001b[0m \u001b[0;32mis\u001b[0m \u001b[0;32mnot\u001b[0m \u001b[0;32mNone\u001b[0m\u001b[0;34m:\u001b[0m\u001b[0;34m\u001b[0m\u001b[0;34m\u001b[0m\u001b[0m\n",
            "\u001b[0;31mKeyError\u001b[0m: 'City'"
          ]
        }
      ]
    },
    {
      "cell_type": "code",
      "metadata": {
        "colab": {
          "base_uri": "https://localhost:8080/",
          "height": 204
        },
        "id": "plcmR3e35K1P",
        "outputId": "f6f382fc-6598-4c5a-db38-7344cb0b08da"
      },
      "source": [
        "CityTemp.head()"
      ],
      "execution_count": null,
      "outputs": [
        {
          "output_type": "execute_result",
          "data": {
            "text/html": [
              "<div>\n",
              "<style scoped>\n",
              "    .dataframe tbody tr th:only-of-type {\n",
              "        vertical-align: middle;\n",
              "    }\n",
              "\n",
              "    .dataframe tbody tr th {\n",
              "        vertical-align: top;\n",
              "    }\n",
              "\n",
              "    .dataframe thead th {\n",
              "        text-align: right;\n",
              "    }\n",
              "</style>\n",
              "<table border=\"1\" class=\"dataframe\">\n",
              "  <thead>\n",
              "    <tr style=\"text-align: right;\">\n",
              "      <th></th>\n",
              "      <th>dt</th>\n",
              "      <th>AverageTemperature</th>\n",
              "      <th>AverageTemperatureUncertainty</th>\n",
              "      <th>State</th>\n",
              "      <th>Country</th>\n",
              "    </tr>\n",
              "  </thead>\n",
              "  <tbody>\n",
              "    <tr>\n",
              "      <th>0</th>\n",
              "      <td>1855-05-01</td>\n",
              "      <td>25.544</td>\n",
              "      <td>1.171</td>\n",
              "      <td>Acre</td>\n",
              "      <td>Brazil</td>\n",
              "    </tr>\n",
              "    <tr>\n",
              "      <th>1</th>\n",
              "      <td>1855-06-01</td>\n",
              "      <td>24.228</td>\n",
              "      <td>1.103</td>\n",
              "      <td>Acre</td>\n",
              "      <td>Brazil</td>\n",
              "    </tr>\n",
              "    <tr>\n",
              "      <th>2</th>\n",
              "      <td>1855-07-01</td>\n",
              "      <td>24.371</td>\n",
              "      <td>1.044</td>\n",
              "      <td>Acre</td>\n",
              "      <td>Brazil</td>\n",
              "    </tr>\n",
              "    <tr>\n",
              "      <th>3</th>\n",
              "      <td>1855-08-01</td>\n",
              "      <td>25.427</td>\n",
              "      <td>1.073</td>\n",
              "      <td>Acre</td>\n",
              "      <td>Brazil</td>\n",
              "    </tr>\n",
              "    <tr>\n",
              "      <th>4</th>\n",
              "      <td>1855-09-01</td>\n",
              "      <td>25.675</td>\n",
              "      <td>1.014</td>\n",
              "      <td>Acre</td>\n",
              "      <td>Brazil</td>\n",
              "    </tr>\n",
              "  </tbody>\n",
              "</table>\n",
              "</div>"
            ],
            "text/plain": [
              "          dt  AverageTemperature  AverageTemperatureUncertainty State Country\n",
              "0 1855-05-01              25.544                          1.171  Acre  Brazil\n",
              "1 1855-06-01              24.228                          1.103  Acre  Brazil\n",
              "2 1855-07-01              24.371                          1.044  Acre  Brazil\n",
              "3 1855-08-01              25.427                          1.073  Acre  Brazil\n",
              "4 1855-09-01              25.675                          1.014  Acre  Brazil"
            ]
          },
          "metadata": {},
          "execution_count": 75
        }
      ]
    },
    {
      "cell_type": "code",
      "metadata": {
        "colab": {
          "base_uri": "https://localhost:8080/"
        },
        "id": "C3qdhLeCYKfD",
        "outputId": "24c3dfea-2f1d-4501-a68d-9cd2a6986016"
      },
      "source": [
        "gc.collect()"
      ],
      "execution_count": null,
      "outputs": [
        {
          "output_type": "execute_result",
          "data": {
            "text/plain": [
              "90"
            ]
          },
          "metadata": {},
          "execution_count": 10
        }
      ]
    },
    {
      "cell_type": "code",
      "metadata": {
        "id": "7eW69IiAkADP"
      },
      "source": [
        ""
      ],
      "execution_count": null,
      "outputs": []
    }
  ]
}